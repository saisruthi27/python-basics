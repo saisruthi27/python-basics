{
 "cells": [
  {
   "cell_type": "code",
   "execution_count": 2,
   "metadata": {},
   "outputs": [
    {
     "name": "stdout",
     "output_type": "stream",
     "text": [
      "4 6 "
     ]
    }
   ],
   "source": [
    "#consider only even numbers fromlist\n",
    "a=[1,4,5,6,9]\n",
    "def evenNumber(a):\n",
    "    for x in range(len(a)):\n",
    "        if a[x]%2==0 :\n",
    "            print(a[x],end=\" \")\n",
    "    return \n",
    "evenNumber(a)"
   ]
  },
  {
   "cell_type": "code",
   "execution_count": 3,
   "metadata": {},
   "outputs": [
    {
     "name": "stdout",
     "output_type": "stream",
     "text": [
      "1 4 3 16 5 "
     ]
    }
   ],
   "source": [
    "#consider only even number and square of it\n",
    "a=[1,2,3,4,5]\n",
    "def evenSquare(a):\n",
    "    for x in range (len(a)):\n",
    "        if a[x]%2!=0 :\n",
    "            print(a[x],end=\" \")\n",
    "        elif a[x]%2==0 :\n",
    "            print(a[x]*a[x],end=\" \")\n",
    "    return\n",
    "evenSquare(a)"
   ]
  },
  {
   "cell_type": "code",
   "execution_count": 18,
   "metadata": {},
   "outputs": [
    {
     "name": "stdout",
     "output_type": "stream",
     "text": [
      "15 34 46 62 66 "
     ]
    }
   ],
   "source": [
    "#function to add previous number to current number\n",
    "a=[15,19,12,16,4]\n",
    "def addPrevious(a):\n",
    "    for x in range (len(a)):\n",
    "        if x==0 :\n",
    "            print(a[x],end=\" \")\n",
    "        elif x>0 or x<=len(a)-1 :\n",
    "            j=a[x]=a[x]+a[x-1]\n",
    "            print(j,end=\" \")\n",
    "    return\n",
    "addPrevious(a)"
   ]
  },
  {
   "cell_type": "code",
   "execution_count": null,
   "metadata": {},
   "outputs": [],
   "source": [
    "#fuction to convert list to integer\n",
    "a=[1,4,5,6,9]\n",
    "def convertListToInteger(a):\n",
    "    "
   ]
  },
  {
   "cell_type": "code",
   "execution_count": null,
   "metadata": {},
   "outputs": [],
   "source": []
  }
 ],
 "metadata": {
  "kernelspec": {
   "display_name": "Python 3",
   "language": "python",
   "name": "python3"
  },
  "language_info": {
   "codemirror_mode": {
    "name": "ipython",
    "version": 3
   },
   "file_extension": ".py",
   "mimetype": "text/x-python",
   "name": "python",
   "nbconvert_exporter": "python",
   "pygments_lexer": "ipython3",
   "version": "3.7.3"
  }
 },
 "nbformat": 4,
 "nbformat_minor": 2
}
